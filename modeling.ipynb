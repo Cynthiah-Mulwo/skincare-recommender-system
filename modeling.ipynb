{
  "nbformat": 4,
  "nbformat_minor": 0,
  "metadata": {
    "colab": {
      "provenance": []
    },
    "kernelspec": {
      "name": "python3",
      "display_name": "Python 3"
    },
    "language_info": {
      "name": "python"
    }
  },
  "cells": [
    {
      "cell_type": "code",
      "execution_count": null,
      "metadata": {
        "id": "ocoev3PrB7sP"
      },
      "outputs": [],
      "source": [
        "#importing relevant libraries\n",
        "import pandas as pd\n",
        "import numpy as np\n",
        "import json\n",
        "import matplotlib.pyplot as plt\n",
        "%matplotlib inline\n",
        "import seaborn as sns\n",
        "import plotly.subplots as sp\n",
        "import plotly.graph_objects as go\n",
        "import warnings\n",
        "warnings.filterwarnings(\"ignore\")\n",
        "from scipy.stats import skew\n",
        "from scipy.sparse import csr_matrix\n",
        "from sklearn.model_selection import train_test_split\n",
        "from sklearn.metrics import accuracy_score\n",
        "from sklearn.metrics import average_precision_score"
      ]
    },
    {
      "cell_type": "code",
      "source": [
        "from google.colab import drive\n",
        "drive.mount('/content/drive')"
      ],
      "metadata": {
        "colab": {
          "base_uri": "https://localhost:8080/"
        },
        "id": "7wN6bsLACCp_",
        "outputId": "afde464d-fc0f-4892-94c4-a02d15a6dd12"
      },
      "execution_count": null,
      "outputs": [
        {
          "output_type": "stream",
          "name": "stdout",
          "text": [
            "Drive already mounted at /content/drive; to attempt to forcibly remount, call drive.mount(\"/content/drive\", force_remount=True).\n"
          ]
        }
      ]
    },
    {
      "cell_type": "code",
      "source": [
        "new_data = pd.read_csv('/content/drive/MyDrive/new-data.csv')"
      ],
      "metadata": {
        "id": "TOETGy7cCILl"
      },
      "execution_count": null,
      "outputs": []
    },
    {
      "cell_type": "code",
      "source": [
        "new_data.shape"
      ],
      "metadata": {
        "colab": {
          "base_uri": "https://localhost:8080/"
        },
        "id": "F-4nbVm7CI-G",
        "outputId": "de358b84-4807-4749-b580-de7d9ee5dc34"
      },
      "execution_count": null,
      "outputs": [
        {
          "output_type": "execute_result",
          "data": {
            "text/plain": [
              "(630808, 22)"
            ]
          },
          "metadata": {},
          "execution_count": 156
        }
      ]
    },
    {
      "cell_type": "code",
      "source": [
        "new_data.isna().sum()"
      ],
      "metadata": {
        "colab": {
          "base_uri": "https://localhost:8080/"
        },
        "id": "HT82QgnZCsW8",
        "outputId": "d56c8cf1-c02d-4566-e733-e129dfacbe47"
      },
      "execution_count": null,
      "outputs": [
        {
          "output_type": "execute_result",
          "data": {
            "text/plain": [
              "Unnamed: 0            0\n",
              "author_id             0\n",
              "product_id            0\n",
              "product_name_x        0\n",
              "brand_name_x          0\n",
              "loves_count           0\n",
              "rating_x              0\n",
              "reviews               0\n",
              "size                  0\n",
              "ingredients           0\n",
              "price_usd_x           0\n",
              "highlights            0\n",
              "primary_category      0\n",
              "secondary_category    0\n",
              "tertiary_category     0\n",
              "is_recommended        0\n",
              "helpfulness           0\n",
              "review_text           0\n",
              "skin_tone             0\n",
              "eye_color             0\n",
              "skin_type             0\n",
              "hair_color            0\n",
              "dtype: int64"
            ]
          },
          "metadata": {},
          "execution_count": 157
        }
      ]
    },
    {
      "cell_type": "code",
      "source": [
        "new_data.head()"
      ],
      "metadata": {
        "colab": {
          "base_uri": "https://localhost:8080/",
          "height": 577
        },
        "id": "TX2WdBf5Y8uJ",
        "outputId": "6d263789-aae5-44e9-c9d2-3de160c6f527"
      },
      "execution_count": null,
      "outputs": [
        {
          "output_type": "execute_result",
          "data": {
            "text/plain": [
              "   Unnamed: 0    author_id product_id                        product_name_x  \\\n",
              "0           0   5880814443    P439055  GENIUS Sleeping Collagen Moisturizer   \n",
              "1           3   8222942765    P439055  GENIUS Sleeping Collagen Moisturizer   \n",
              "2           4   2403670662    P439055  GENIUS Sleeping Collagen Moisturizer   \n",
              "3           6  25102053273    P439055  GENIUS Sleeping Collagen Moisturizer   \n",
              "4           7   1117898902    P439055  GENIUS Sleeping Collagen Moisturizer   \n",
              "\n",
              "  brand_name_x  loves_count  rating_x  reviews         size  \\\n",
              "0     Algenist      33910.0    4.5413   1321.0  2 oz/ 60 mL   \n",
              "1     Algenist      33910.0    4.5413   1321.0  2 oz/ 60 mL   \n",
              "2     Algenist      33910.0    4.5413   1321.0  2 oz/ 60 mL   \n",
              "3     Algenist      33910.0    4.5413   1321.0  2 oz/ 60 mL   \n",
              "4     Algenist      33910.0    4.5413   1321.0  2 oz/ 60 mL   \n",
              "\n",
              "                                         ingredients  ...  primary_category  \\\n",
              "0  ['Collagen (Vegan)*, Water (Aqua, Eau), Ethylh...  ...          Skincare   \n",
              "1  ['Collagen (Vegan)*, Water (Aqua, Eau), Ethylh...  ...          Skincare   \n",
              "2  ['Collagen (Vegan)*, Water (Aqua, Eau), Ethylh...  ...          Skincare   \n",
              "3  ['Collagen (Vegan)*, Water (Aqua, Eau), Ethylh...  ...          Skincare   \n",
              "4  ['Collagen (Vegan)*, Water (Aqua, Eau), Ethylh...  ...          Skincare   \n",
              "\n",
              "  secondary_category tertiary_category is_recommended helpfulness  \\\n",
              "0       Moisturizers      Moisturizers            1.0    1.000000   \n",
              "1       Moisturizers      Moisturizers            1.0    0.800000   \n",
              "2       Moisturizers      Moisturizers            0.0    0.111111   \n",
              "3       Moisturizers      Moisturizers            1.0    0.833333   \n",
              "4       Moisturizers      Moisturizers            1.0    0.333333   \n",
              "\n",
              "                                         review_text    skin_tone eye_color  \\\n",
              "0  Ever since I bought this, I noticed that my sk...       medium     brown   \n",
              "1  I’ve been using this for 2 months now and I ca...        light     brown   \n",
              "2  I don’t like the smell. It pills on your skin ...         fair     green   \n",
              "3  Love this product. I use it every night. Goes ...         fair     hazel   \n",
              "4  Great product. It is so moisturizing. However,...  lightMedium     green   \n",
              "\n",
              "     skin_type hair_color  \n",
              "0         oily      black  \n",
              "1  combination     blonde  \n",
              "2  combination     blonde  \n",
              "3  combination      brown  \n",
              "4          dry      brown  \n",
              "\n",
              "[5 rows x 22 columns]"
            ],
            "text/html": [
              "\n",
              "  <div id=\"df-9e41d7fc-97b1-406d-bab9-bd1730bade02\">\n",
              "    <div class=\"colab-df-container\">\n",
              "      <div>\n",
              "<style scoped>\n",
              "    .dataframe tbody tr th:only-of-type {\n",
              "        vertical-align: middle;\n",
              "    }\n",
              "\n",
              "    .dataframe tbody tr th {\n",
              "        vertical-align: top;\n",
              "    }\n",
              "\n",
              "    .dataframe thead th {\n",
              "        text-align: right;\n",
              "    }\n",
              "</style>\n",
              "<table border=\"1\" class=\"dataframe\">\n",
              "  <thead>\n",
              "    <tr style=\"text-align: right;\">\n",
              "      <th></th>\n",
              "      <th>Unnamed: 0</th>\n",
              "      <th>author_id</th>\n",
              "      <th>product_id</th>\n",
              "      <th>product_name_x</th>\n",
              "      <th>brand_name_x</th>\n",
              "      <th>loves_count</th>\n",
              "      <th>rating_x</th>\n",
              "      <th>reviews</th>\n",
              "      <th>size</th>\n",
              "      <th>ingredients</th>\n",
              "      <th>...</th>\n",
              "      <th>primary_category</th>\n",
              "      <th>secondary_category</th>\n",
              "      <th>tertiary_category</th>\n",
              "      <th>is_recommended</th>\n",
              "      <th>helpfulness</th>\n",
              "      <th>review_text</th>\n",
              "      <th>skin_tone</th>\n",
              "      <th>eye_color</th>\n",
              "      <th>skin_type</th>\n",
              "      <th>hair_color</th>\n",
              "    </tr>\n",
              "  </thead>\n",
              "  <tbody>\n",
              "    <tr>\n",
              "      <th>0</th>\n",
              "      <td>0</td>\n",
              "      <td>5880814443</td>\n",
              "      <td>P439055</td>\n",
              "      <td>GENIUS Sleeping Collagen Moisturizer</td>\n",
              "      <td>Algenist</td>\n",
              "      <td>33910.0</td>\n",
              "      <td>4.5413</td>\n",
              "      <td>1321.0</td>\n",
              "      <td>2 oz/ 60 mL</td>\n",
              "      <td>['Collagen (Vegan)*, Water (Aqua, Eau), Ethylh...</td>\n",
              "      <td>...</td>\n",
              "      <td>Skincare</td>\n",
              "      <td>Moisturizers</td>\n",
              "      <td>Moisturizers</td>\n",
              "      <td>1.0</td>\n",
              "      <td>1.000000</td>\n",
              "      <td>Ever since I bought this, I noticed that my sk...</td>\n",
              "      <td>medium</td>\n",
              "      <td>brown</td>\n",
              "      <td>oily</td>\n",
              "      <td>black</td>\n",
              "    </tr>\n",
              "    <tr>\n",
              "      <th>1</th>\n",
              "      <td>3</td>\n",
              "      <td>8222942765</td>\n",
              "      <td>P439055</td>\n",
              "      <td>GENIUS Sleeping Collagen Moisturizer</td>\n",
              "      <td>Algenist</td>\n",
              "      <td>33910.0</td>\n",
              "      <td>4.5413</td>\n",
              "      <td>1321.0</td>\n",
              "      <td>2 oz/ 60 mL</td>\n",
              "      <td>['Collagen (Vegan)*, Water (Aqua, Eau), Ethylh...</td>\n",
              "      <td>...</td>\n",
              "      <td>Skincare</td>\n",
              "      <td>Moisturizers</td>\n",
              "      <td>Moisturizers</td>\n",
              "      <td>1.0</td>\n",
              "      <td>0.800000</td>\n",
              "      <td>I’ve been using this for 2 months now and I ca...</td>\n",
              "      <td>light</td>\n",
              "      <td>brown</td>\n",
              "      <td>combination</td>\n",
              "      <td>blonde</td>\n",
              "    </tr>\n",
              "    <tr>\n",
              "      <th>2</th>\n",
              "      <td>4</td>\n",
              "      <td>2403670662</td>\n",
              "      <td>P439055</td>\n",
              "      <td>GENIUS Sleeping Collagen Moisturizer</td>\n",
              "      <td>Algenist</td>\n",
              "      <td>33910.0</td>\n",
              "      <td>4.5413</td>\n",
              "      <td>1321.0</td>\n",
              "      <td>2 oz/ 60 mL</td>\n",
              "      <td>['Collagen (Vegan)*, Water (Aqua, Eau), Ethylh...</td>\n",
              "      <td>...</td>\n",
              "      <td>Skincare</td>\n",
              "      <td>Moisturizers</td>\n",
              "      <td>Moisturizers</td>\n",
              "      <td>0.0</td>\n",
              "      <td>0.111111</td>\n",
              "      <td>I don’t like the smell. It pills on your skin ...</td>\n",
              "      <td>fair</td>\n",
              "      <td>green</td>\n",
              "      <td>combination</td>\n",
              "      <td>blonde</td>\n",
              "    </tr>\n",
              "    <tr>\n",
              "      <th>3</th>\n",
              "      <td>6</td>\n",
              "      <td>25102053273</td>\n",
              "      <td>P439055</td>\n",
              "      <td>GENIUS Sleeping Collagen Moisturizer</td>\n",
              "      <td>Algenist</td>\n",
              "      <td>33910.0</td>\n",
              "      <td>4.5413</td>\n",
              "      <td>1321.0</td>\n",
              "      <td>2 oz/ 60 mL</td>\n",
              "      <td>['Collagen (Vegan)*, Water (Aqua, Eau), Ethylh...</td>\n",
              "      <td>...</td>\n",
              "      <td>Skincare</td>\n",
              "      <td>Moisturizers</td>\n",
              "      <td>Moisturizers</td>\n",
              "      <td>1.0</td>\n",
              "      <td>0.833333</td>\n",
              "      <td>Love this product. I use it every night. Goes ...</td>\n",
              "      <td>fair</td>\n",
              "      <td>hazel</td>\n",
              "      <td>combination</td>\n",
              "      <td>brown</td>\n",
              "    </tr>\n",
              "    <tr>\n",
              "      <th>4</th>\n",
              "      <td>7</td>\n",
              "      <td>1117898902</td>\n",
              "      <td>P439055</td>\n",
              "      <td>GENIUS Sleeping Collagen Moisturizer</td>\n",
              "      <td>Algenist</td>\n",
              "      <td>33910.0</td>\n",
              "      <td>4.5413</td>\n",
              "      <td>1321.0</td>\n",
              "      <td>2 oz/ 60 mL</td>\n",
              "      <td>['Collagen (Vegan)*, Water (Aqua, Eau), Ethylh...</td>\n",
              "      <td>...</td>\n",
              "      <td>Skincare</td>\n",
              "      <td>Moisturizers</td>\n",
              "      <td>Moisturizers</td>\n",
              "      <td>1.0</td>\n",
              "      <td>0.333333</td>\n",
              "      <td>Great product. It is so moisturizing. However,...</td>\n",
              "      <td>lightMedium</td>\n",
              "      <td>green</td>\n",
              "      <td>dry</td>\n",
              "      <td>brown</td>\n",
              "    </tr>\n",
              "  </tbody>\n",
              "</table>\n",
              "<p>5 rows × 22 columns</p>\n",
              "</div>\n",
              "      <button class=\"colab-df-convert\" onclick=\"convertToInteractive('df-9e41d7fc-97b1-406d-bab9-bd1730bade02')\"\n",
              "              title=\"Convert this dataframe to an interactive table.\"\n",
              "              style=\"display:none;\">\n",
              "        \n",
              "  <svg xmlns=\"http://www.w3.org/2000/svg\" height=\"24px\"viewBox=\"0 0 24 24\"\n",
              "       width=\"24px\">\n",
              "    <path d=\"M0 0h24v24H0V0z\" fill=\"none\"/>\n",
              "    <path d=\"M18.56 5.44l.94 2.06.94-2.06 2.06-.94-2.06-.94-.94-2.06-.94 2.06-2.06.94zm-11 1L8.5 8.5l.94-2.06 2.06-.94-2.06-.94L8.5 2.5l-.94 2.06-2.06.94zm10 10l.94 2.06.94-2.06 2.06-.94-2.06-.94-.94-2.06-.94 2.06-2.06.94z\"/><path d=\"M17.41 7.96l-1.37-1.37c-.4-.4-.92-.59-1.43-.59-.52 0-1.04.2-1.43.59L10.3 9.45l-7.72 7.72c-.78.78-.78 2.05 0 2.83L4 21.41c.39.39.9.59 1.41.59.51 0 1.02-.2 1.41-.59l7.78-7.78 2.81-2.81c.8-.78.8-2.07 0-2.86zM5.41 20L4 18.59l7.72-7.72 1.47 1.35L5.41 20z\"/>\n",
              "  </svg>\n",
              "      </button>\n",
              "      \n",
              "  <style>\n",
              "    .colab-df-container {\n",
              "      display:flex;\n",
              "      flex-wrap:wrap;\n",
              "      gap: 12px;\n",
              "    }\n",
              "\n",
              "    .colab-df-convert {\n",
              "      background-color: #E8F0FE;\n",
              "      border: none;\n",
              "      border-radius: 50%;\n",
              "      cursor: pointer;\n",
              "      display: none;\n",
              "      fill: #1967D2;\n",
              "      height: 32px;\n",
              "      padding: 0 0 0 0;\n",
              "      width: 32px;\n",
              "    }\n",
              "\n",
              "    .colab-df-convert:hover {\n",
              "      background-color: #E2EBFA;\n",
              "      box-shadow: 0px 1px 2px rgba(60, 64, 67, 0.3), 0px 1px 3px 1px rgba(60, 64, 67, 0.15);\n",
              "      fill: #174EA6;\n",
              "    }\n",
              "\n",
              "    [theme=dark] .colab-df-convert {\n",
              "      background-color: #3B4455;\n",
              "      fill: #D2E3FC;\n",
              "    }\n",
              "\n",
              "    [theme=dark] .colab-df-convert:hover {\n",
              "      background-color: #434B5C;\n",
              "      box-shadow: 0px 1px 3px 1px rgba(0, 0, 0, 0.15);\n",
              "      filter: drop-shadow(0px 1px 2px rgba(0, 0, 0, 0.3));\n",
              "      fill: #FFFFFF;\n",
              "    }\n",
              "  </style>\n",
              "\n",
              "      <script>\n",
              "        const buttonEl =\n",
              "          document.querySelector('#df-9e41d7fc-97b1-406d-bab9-bd1730bade02 button.colab-df-convert');\n",
              "        buttonEl.style.display =\n",
              "          google.colab.kernel.accessAllowed ? 'block' : 'none';\n",
              "\n",
              "        async function convertToInteractive(key) {\n",
              "          const element = document.querySelector('#df-9e41d7fc-97b1-406d-bab9-bd1730bade02');\n",
              "          const dataTable =\n",
              "            await google.colab.kernel.invokeFunction('convertToInteractive',\n",
              "                                                     [key], {});\n",
              "          if (!dataTable) return;\n",
              "\n",
              "          const docLinkHtml = 'Like what you see? Visit the ' +\n",
              "            '<a target=\"_blank\" href=https://colab.research.google.com/notebooks/data_table.ipynb>data table notebook</a>'\n",
              "            + ' to learn more about interactive tables.';\n",
              "          element.innerHTML = '';\n",
              "          dataTable['output_type'] = 'display_data';\n",
              "          await google.colab.output.renderOutput(dataTable, element);\n",
              "          const docLink = document.createElement('div');\n",
              "          docLink.innerHTML = docLinkHtml;\n",
              "          element.appendChild(docLink);\n",
              "        }\n",
              "      </script>\n",
              "    </div>\n",
              "  </div>\n",
              "  "
            ]
          },
          "metadata": {},
          "execution_count": 158
        }
      ]
    },
    {
      "cell_type": "code",
      "source": [
        "new_data.duplicated().sum()"
      ],
      "metadata": {
        "colab": {
          "base_uri": "https://localhost:8080/"
        },
        "id": "uxtfnGEXDUJn",
        "outputId": "a235be3b-0ed1-4a27-d383-010383d59692"
      },
      "execution_count": null,
      "outputs": [
        {
          "output_type": "execute_result",
          "data": {
            "text/plain": [
              "0"
            ]
          },
          "metadata": {},
          "execution_count": 159
        }
      ]
    },
    {
      "cell_type": "code",
      "source": [
        "new_data.columns"
      ],
      "metadata": {
        "colab": {
          "base_uri": "https://localhost:8080/"
        },
        "id": "X5siR8sbDhlj",
        "outputId": "4e5f08c8-a876-4c66-c713-643be4bee065"
      },
      "execution_count": null,
      "outputs": [
        {
          "output_type": "execute_result",
          "data": {
            "text/plain": [
              "Index(['Unnamed: 0', 'author_id', 'product_id', 'product_name_x',\n",
              "       'brand_name_x', 'loves_count', 'rating_x', 'reviews', 'size',\n",
              "       'ingredients', 'price_usd_x', 'highlights', 'primary_category',\n",
              "       'secondary_category', 'tertiary_category', 'is_recommended',\n",
              "       'helpfulness', 'review_text', 'skin_tone', 'eye_color', 'skin_type',\n",
              "       'hair_color'],\n",
              "      dtype='object')"
            ]
          },
          "metadata": {},
          "execution_count": 160
        }
      ]
    },
    {
      "cell_type": "code",
      "source": [
        "new_data = new_data.drop(['Unnamed: 0'], axis=1)"
      ],
      "metadata": {
        "id": "dX-Io1I2Dkbf"
      },
      "execution_count": null,
      "outputs": []
    },
    {
      "cell_type": "code",
      "source": [
        "new_data.shape"
      ],
      "metadata": {
        "colab": {
          "base_uri": "https://localhost:8080/"
        },
        "id": "eMyDS2MdDlWs",
        "outputId": "a7afa5c7-035d-45c9-ca95-58f1a2be4245"
      },
      "execution_count": null,
      "outputs": [
        {
          "output_type": "execute_result",
          "data": {
            "text/plain": [
              "(630808, 21)"
            ]
          },
          "metadata": {},
          "execution_count": 162
        }
      ]
    },
    {
      "cell_type": "markdown",
      "source": [
        "### Data Preprocessing"
      ],
      "metadata": {
        "id": "Pu2POd4HD5gL"
      }
    },
    {
      "cell_type": "code",
      "source": [
        "new_data_1= new_data.drop(['product_id','author_id','size', 'ingredients', 'highlights', 'primary_category',\n",
        "                           'secondary_category', 'review_text','brand_name_x', 'tertiary_category', 'reviews'], axis=1)"
      ],
      "metadata": {
        "id": "A3twtC7qD5LD"
      },
      "execution_count": null,
      "outputs": []
    },
    {
      "cell_type": "code",
      "source": [
        "new_data_1.shape"
      ],
      "metadata": {
        "colab": {
          "base_uri": "https://localhost:8080/"
        },
        "id": "cGHn_mDgEGmL",
        "outputId": "0ce8919a-1f30-4d31-d00d-f2b488232931"
      },
      "execution_count": null,
      "outputs": [
        {
          "output_type": "execute_result",
          "data": {
            "text/plain": [
              "(630808, 10)"
            ]
          },
          "metadata": {},
          "execution_count": 164
        }
      ]
    },
    {
      "cell_type": "code",
      "source": [
        "new_data_1.columns"
      ],
      "metadata": {
        "colab": {
          "base_uri": "https://localhost:8080/"
        },
        "id": "FxYsfg3MV1_J",
        "outputId": "b3aaf9e7-8fd0-4634-c352-ee83c41553e9"
      },
      "execution_count": null,
      "outputs": [
        {
          "output_type": "execute_result",
          "data": {
            "text/plain": [
              "Index(['product_name_x', 'loves_count', 'rating_x', 'price_usd_x',\n",
              "       'is_recommended', 'helpfulness', 'skin_tone', 'eye_color', 'skin_type',\n",
              "       'hair_color'],\n",
              "      dtype='object')"
            ]
          },
          "metadata": {},
          "execution_count": 165
        }
      ]
    },
    {
      "cell_type": "markdown",
      "source": [
        "### OHE"
      ],
      "metadata": {
        "id": "qFxz7CT0Ept8"
      }
    },
    {
      "cell_type": "code",
      "source": [
        "# Categorical columns to one-hot encode\n",
        "categorical_cols = ['product_name_x', 'skin_tone', 'eye_color', 'hair_color', 'skin_type']\n",
        "df_encoded = pd.get_dummies(new_data_1, columns=categorical_cols)"
      ],
      "metadata": {
        "id": "WzTZehuTEZlp"
      },
      "execution_count": null,
      "outputs": []
    },
    {
      "cell_type": "code",
      "source": [
        "df_encoded.shape"
      ],
      "metadata": {
        "colab": {
          "base_uri": "https://localhost:8080/"
        },
        "id": "t-XhZ4z2Ec6Y",
        "outputId": "ed748abf-8ef8-4858-c12d-a828b7b9d9b5"
      },
      "execution_count": null,
      "outputs": [
        {
          "output_type": "execute_result",
          "data": {
            "text/plain": [
              "(630808, 1549)"
            ]
          },
          "metadata": {},
          "execution_count": 167
        }
      ]
    },
    {
      "cell_type": "markdown",
      "source": [
        "### Checking for Skewness & Log Transformation"
      ],
      "metadata": {
        "id": "cbYmMY-KEuUo"
      }
    },
    {
      "cell_type": "code",
      "source": [
        "def check_skewness(data):\n",
        "    skewness = {}\n",
        "    interpretation = {}\n",
        "    for column in data.columns:\n",
        "        # Convert the column data to a NumPy array\n",
        "        column_data = np.array(data[column])\n",
        "        # Calculate the skewness of the column data\n",
        "        column_skewness = skew(column_data)\n",
        "        skewness[column] = column_skewness\n",
        "        # Interpret the skewness value\n",
        "        if column_skewness < -1:\n",
        "            interpretation[column] = \"Highly left-skewed\"\n",
        "        elif -1 <= column_skewness < -0.5:\n",
        "            interpretation[column] = \"Moderately left-skewed\"\n",
        "        elif -0.5 <= column_skewness <= 0.5:\n",
        "            interpretation[column] = \"Approximately symmetric\"\n",
        "        elif 0.5 < column_skewness < 1:\n",
        "            interpretation[column] = \"Moderately right-skewed\"\n",
        "        else:\n",
        "            interpretation[column] = \"Highly right-skewed\"\n",
        "    return skewness, interpretation\n",
        "\n",
        "columns = [\"loves_count\", \"rating_x\", \"price_usd_x\"]\n",
        "skewness, interpretation = check_skewness(df_encoded[columns])\n",
        "for column in columns:\n",
        "    print(\"Skewness for\", column, \":\", skewness[column])\n",
        "    print(\"Interpretation for\", column, \":\", interpretation[column])\n",
        "    print()"
      ],
      "metadata": {
        "colab": {
          "base_uri": "https://localhost:8080/"
        },
        "id": "OI7x56ieJwAv",
        "outputId": "fe9ece5e-b621-48e0-e211-fba0cf8ba50c"
      },
      "execution_count": null,
      "outputs": [
        {
          "output_type": "stream",
          "name": "stdout",
          "text": [
            "Skewness for loves_count : 2.3711238911442045\n",
            "Interpretation for loves_count : Highly right-skewed\n",
            "\n",
            "Skewness for rating_x : -0.9422155184528447\n",
            "Interpretation for rating_x : Moderately left-skewed\n",
            "\n",
            "Skewness for price_usd_x : 3.4259434143105993\n",
            "Interpretation for price_usd_x : Highly right-skewed\n",
            "\n"
          ]
        }
      ]
    },
    {
      "cell_type": "code",
      "source": [
        "# Create a new DataFrame for log-transformed values\n",
        "\n",
        "# Perform log transformation for each column\n",
        "for column in ['loves_count','price_usd_x' ]:\n",
        "    df_encoded[column] = np.log(df_encoded[column])"
      ],
      "metadata": {
        "id": "NCZJJc1SFp_-"
      },
      "execution_count": null,
      "outputs": []
    },
    {
      "cell_type": "markdown",
      "source": [
        "### Scaling the data"
      ],
      "metadata": {
        "id": "DZuusvO8O601"
      }
    },
    {
      "cell_type": "code",
      "source": [
        "import numpy as np\n",
        "from sklearn.preprocessing import MinMaxScaler\n",
        "\n",
        "# Numerical columns to scale the data\n",
        "numerical_cols = ['loves_count', 'price_usd_x', 'rating_x']\n",
        "\n",
        "# Clip the values to a reasonable range\n",
        "clip_min = -1e9  # Define the minimum value to clip\n",
        "clip_max = 1e9   # Define the maximum value to clip\n",
        "df_encoded[numerical_cols] = np.clip(df_encoded[numerical_cols], clip_min, clip_max)\n",
        "\n",
        "# Scale the data\n",
        "scaler = MinMaxScaler()\n",
        "df_encoded[numerical_cols] = scaler.fit_transform(df_encoded[numerical_cols])"
      ],
      "metadata": {
        "id": "mQmHIqojSpqw"
      },
      "execution_count": null,
      "outputs": []
    },
    {
      "cell_type": "markdown",
      "source": [
        "### Nearest Neighbours- Baseline Mode"
      ],
      "metadata": {
        "id": "vyNLKmcVTMF_"
      }
    },
    {
      "cell_type": "code",
      "source": [
        "# create a mapping from unique author IDs and product names to indices\n",
        "author_ids = new_data['author_id'].unique()\n",
        "author_id_to_index = {id: index for index, id in enumerate(author_ids)}\n",
        "product_names = new_data['product_name_x'].unique()\n",
        "product_name_to_index = {id: index for index, id in enumerate(product_names)}\n",
        "# get the indices for the sparse matrix\n",
        "row_indices = np.array([author_id_to_index[id] for id in new_data['author_id']])\n",
        "col_indices = np.array([product_name_to_index[id] for id in new_data['product_name_x']])\n",
        "ratings = np.array(new_data['rating_x'])\n",
        "# create the sparse matrix\n",
        "sparse_matrix = csr_matrix((ratings, (row_indices, col_indices)), shape=(len(author_ids), len(product_names)))"
      ],
      "metadata": {
        "id": "XiCuofyJaT4a"
      },
      "execution_count": null,
      "outputs": []
    },
    {
      "cell_type": "code",
      "source": [
        "sparse_matrix"
      ],
      "metadata": {
        "colab": {
          "base_uri": "https://localhost:8080/"
        },
        "id": "nno49XFneWGI",
        "outputId": "c7735db2-3784-4abe-eb2b-a1c3f281c26c"
      },
      "execution_count": null,
      "outputs": [
        {
          "output_type": "execute_result",
          "data": {
            "text/plain": [
              "<364274x1513 sparse matrix of type '<class 'numpy.float64'>'\n",
              "\twith 629695 stored elements in Compressed Sparse Row format>"
            ]
          },
          "metadata": {},
          "execution_count": 172
        }
      ]
    },
    {
      "cell_type": "code",
      "source": [
        "from sklearn.neighbors import NearestNeighbors\n",
        "# instantiating Nearest Neighbors\n",
        "nearest_neighbor_model = NearestNeighbors(metric='cosine', algorithm='brute')\n",
        "\n",
        "#fitting the model to the sparse matrix\n",
        "model = nearest_neighbor_model.fit(sparse_matrix)"
      ],
      "metadata": {
        "id": "x9LcrhbYT1aL"
      },
      "execution_count": null,
      "outputs": []
    },
    {
      "cell_type": "code",
      "source": [
        "def recommend_product(product_name):\n",
        "    # Finding the index of the product in the pivot table\n",
        "    product_index = product_name_to_index[product_name]\n",
        "\n",
        "    # Finding the nearest neighbors of the given product\n",
        "    distances, indices = model.kneighbors(sparse_matrix.getrow(product_index), n_neighbors=5)\n",
        "\n",
        "    # Creating a list of recommended products\n",
        "    recommended_products = []\n",
        "    for index in indices.flatten():\n",
        "        recommended_products.append(product_names[index])\n",
        "\n",
        "    return recommended_products\n"
      ],
      "metadata": {
        "id": "BjuBqXrbhUx0"
      },
      "execution_count": null,
      "outputs": []
    },
    {
      "cell_type": "code",
      "source": [
        "recommend_product('1% Vitamin A Retinol Serum')"
      ],
      "metadata": {
        "colab": {
          "base_uri": "https://localhost:8080/"
        },
        "id": "qYHe7KZ3UU7-",
        "outputId": "2d64bb5f-57c9-41c9-df86-74924f670972"
      },
      "execution_count": null,
      "outputs": [
        {
          "output_type": "execute_result",
          "data": {
            "text/plain": [
              "['The Moisturizing Matte Lotion',\n",
              " 'The Eye Balm Intense',\n",
              " 'The Moisturizing Soft Lotion',\n",
              " 'The Cleansing Foam',\n",
              " 'The Lifting and Firming Mask']"
            ]
          },
          "metadata": {},
          "execution_count": 175
        }
      ]
    },
    {
      "cell_type": "markdown",
      "source": [
        "### Checking for the Accuracy of the model"
      ],
      "metadata": {
        "id": "k8KsSkFxjal8"
      }
    },
    {
      "cell_type": "code",
      "source": [
        "nn_data = new_data[['author_id','product_name_x', 'rating_x']]"
      ],
      "metadata": {
        "id": "zN5zNvGc0ngB"
      },
      "execution_count": null,
      "outputs": []
    },
    {
      "cell_type": "code",
      "source": [
        "nn_data.columns"
      ],
      "metadata": {
        "colab": {
          "base_uri": "https://localhost:8080/"
        },
        "id": "l3Cd5z8EEyQO",
        "outputId": "5e0fbe0f-df23-4a7a-f0fd-c0c87b87ac19"
      },
      "execution_count": null,
      "outputs": [
        {
          "output_type": "execute_result",
          "data": {
            "text/plain": [
              "Index(['author_id', 'product_name_x', 'rating_x'], dtype='object')"
            ]
          },
          "metadata": {},
          "execution_count": 249
        }
      ]
    },
    {
      "cell_type": "code",
      "source": [
        "# Split the dataset into training and testing sets\n",
        "\n",
        "train_data, test_data = train_test_split(new_data, test_size=0.2, random_state=42)"
      ],
      "metadata": {
        "id": "jegwGLBIlPd7"
      },
      "execution_count": null,
      "outputs": []
    },
    {
      "cell_type": "code",
      "source": [
        "from sklearn.metrics import accuracy_score\n",
        "\n",
        "# Assuming you have a test set with the same structure as `new_data`\n",
        "\n",
        "# Create the test sparse matrix\n",
        "test_row_indices = np.array([author_id_to_index[id] for id in test_data['author_id']])\n",
        "test_col_indices = np.array([product_name_to_index[id] for id in test_data['product_name_x']])\n",
        "test_ratings = np.array(test_data['rating_x'])\n",
        "test_sparse_matrix = csr_matrix((test_ratings, (test_row_indices, test_col_indices)), shape=(len(author_ids), len(product_names)))\n"
      ],
      "metadata": {
        "id": "s5_KJpQCuT1i"
      },
      "execution_count": null,
      "outputs": []
    },
    {
      "cell_type": "code",
      "source": [
        "def recommend_product(product_name):\n",
        "    # Finding the index of the product in the pivot table\n",
        "    product_index = product_name_to_index[product_name]\n",
        "\n",
        "    # Finding the nearest neighbors of the given product\n",
        "    distances, indices = model.kneighbors(sparse_matrix.getrow(product_index), n_neighbors=5)\n",
        "\n",
        "    # Creating a list of recommended products\n",
        "    recommended_products = []\n",
        "    for index in indices.flatten():\n",
        "        recommended_products.append(product_names[index])\n",
        "\n",
        "    return recommended_products"
      ],
      "metadata": {
        "id": "yHs3QV20vU4d"
      },
      "execution_count": null,
      "outputs": []
    },
    {
      "cell_type": "code",
      "source": [
        "from sklearn.metrics import accuracy_score\n",
        "\n",
        "test_sparse_matrix = csr_matrix((test_ratings, (test_row_indices, test_col_indices)), shape=(len(author_ids), len(product_names)))\n",
        "\n",
        "# Evaluate the model's accuracy on the test set\n",
        "def evaluate_accuracy(test_sparse_matrix, product_names):\n",
        "    true_labels = []\n",
        "    predicted_labels = []\n",
        "\n",
        "    for product_name in test_data['product_name_x']:\n",
        "        # Get the true recommendation from the 'is_recommended' column\n",
        "        true_label = test_data.loc[test_data['product_name_x'] == product_name, 'is_recommended'].values\n",
        "        if len(true_label) > 0:\n",
        "            true_labels.append(true_label[0])\n",
        "\n",
        "            # Get the predicted recommendation from the recommend_product function\n",
        "            recommended_products = recommend_product(product_name)\n",
        "            if product_name in recommended_products:\n",
        "                predicted_label = 1\n",
        "            else:\n",
        "                predicted_label = 0\n",
        "            predicted_labels.append(predicted_label)\n",
        "\n",
        "    # Check if either true_labels or predicted_labels is empty\n",
        "    if len(true_labels) == 0 or len(predicted_labels) == 0:\n",
        "        return 0.0  # Return 0.0 accuracy if there are no valid labels\n",
        "\n",
        "    accuracy = accuracy_score(true_labels, predicted_labels)\n",
        "    return accuracy\n",
        "\n",
        "# Calculate the accuracy on the test set\n",
        "accuracy = evaluate_accuracy(test_sparse_matrix, product_names)\n",
        "print(f\"Accuracy: {accuracy}\")\n"
      ],
      "metadata": {
        "colab": {
          "base_uri": "https://localhost:8080/",
          "height": 363
        },
        "id": "KY3HgAcsu_WC",
        "outputId": "aeaf1ca6-6f35-4ef2-da73-3adfccfd1326"
      },
      "execution_count": null,
      "outputs": [
        {
          "output_type": "error",
          "ename": "TypeError",
          "evalue": "ignored",
          "traceback": [
            "\u001b[0;31m---------------------------------------------------------------------------\u001b[0m",
            "\u001b[0;31mTypeError\u001b[0m                                 Traceback (most recent call last)",
            "\u001b[0;32m<ipython-input-272-4e6fa5aeaba5>\u001b[0m in \u001b[0;36m<cell line: 32>\u001b[0;34m()\u001b[0m\n\u001b[1;32m     30\u001b[0m \u001b[0;34m\u001b[0m\u001b[0m\n\u001b[1;32m     31\u001b[0m \u001b[0;31m# Calculate the accuracy on the test set\u001b[0m\u001b[0;34m\u001b[0m\u001b[0;34m\u001b[0m\u001b[0m\n\u001b[0;32m---> 32\u001b[0;31m \u001b[0maccuracy\u001b[0m \u001b[0;34m=\u001b[0m \u001b[0mevaluate_accuracy\u001b[0m\u001b[0;34m(\u001b[0m\u001b[0mtest_sparse_matrix\u001b[0m\u001b[0;34m,\u001b[0m \u001b[0mproduct_names\u001b[0m\u001b[0;34m)\u001b[0m\u001b[0;34m\u001b[0m\u001b[0;34m\u001b[0m\u001b[0m\n\u001b[0m\u001b[1;32m     33\u001b[0m \u001b[0mprint\u001b[0m\u001b[0;34m(\u001b[0m\u001b[0;34mf\"Accuracy: {accuracy}\"\u001b[0m\u001b[0;34m)\u001b[0m\u001b[0;34m\u001b[0m\u001b[0;34m\u001b[0m\u001b[0m\n",
            "\u001b[0;32m<ipython-input-272-4e6fa5aeaba5>\u001b[0m in \u001b[0;36mevaluate_accuracy\u001b[0;34m(test_sparse_matrix, product_names)\u001b[0m\n\u001b[1;32m     15\u001b[0m \u001b[0;34m\u001b[0m\u001b[0m\n\u001b[1;32m     16\u001b[0m             \u001b[0;31m# Get the predicted recommendation from the recommend_product function\u001b[0m\u001b[0;34m\u001b[0m\u001b[0;34m\u001b[0m\u001b[0m\n\u001b[0;32m---> 17\u001b[0;31m             \u001b[0mrecommended_products\u001b[0m \u001b[0;34m=\u001b[0m \u001b[0mrecommend_product\u001b[0m\u001b[0;34m(\u001b[0m\u001b[0mproduct_name\u001b[0m\u001b[0;34m)\u001b[0m\u001b[0;34m\u001b[0m\u001b[0;34m\u001b[0m\u001b[0m\n\u001b[0m\u001b[1;32m     18\u001b[0m             \u001b[0;32mif\u001b[0m \u001b[0mproduct_name\u001b[0m \u001b[0;32min\u001b[0m \u001b[0mrecommended_products\u001b[0m\u001b[0;34m:\u001b[0m\u001b[0;34m\u001b[0m\u001b[0;34m\u001b[0m\u001b[0m\n\u001b[1;32m     19\u001b[0m                 \u001b[0mpredicted_label\u001b[0m \u001b[0;34m=\u001b[0m \u001b[0;36m1\u001b[0m\u001b[0;34m\u001b[0m\u001b[0;34m\u001b[0m\u001b[0m\n",
            "\u001b[0;32m<ipython-input-266-c587dddc7d1a>\u001b[0m in \u001b[0;36mrecommend_product\u001b[0;34m(product_names)\u001b[0m\n\u001b[1;32m      4\u001b[0m \u001b[0;34m\u001b[0m\u001b[0m\n\u001b[1;32m      5\u001b[0m     \u001b[0;31m# Finding the nearest neighbors of the given products\u001b[0m\u001b[0;34m\u001b[0m\u001b[0;34m\u001b[0m\u001b[0m\n\u001b[0;32m----> 6\u001b[0;31m     \u001b[0mdistances\u001b[0m\u001b[0;34m,\u001b[0m \u001b[0mindices\u001b[0m \u001b[0;34m=\u001b[0m \u001b[0mtrain_model\u001b[0m\u001b[0;34m.\u001b[0m\u001b[0mkneighbors\u001b[0m\u001b[0;34m(\u001b[0m\u001b[0mtrain_matrix\u001b[0m\u001b[0;34m[\u001b[0m\u001b[0mproduct_indices\u001b[0m\u001b[0;34m]\u001b[0m\u001b[0;34m,\u001b[0m \u001b[0mn_neighbors\u001b[0m\u001b[0;34m=\u001b[0m\u001b[0;36m5\u001b[0m\u001b[0;34m)\u001b[0m\u001b[0;34m\u001b[0m\u001b[0;34m\u001b[0m\u001b[0m\n\u001b[0m\u001b[1;32m      7\u001b[0m \u001b[0;34m\u001b[0m\u001b[0m\n\u001b[1;32m      8\u001b[0m     \u001b[0;31m# Creating a list of recommended products\u001b[0m\u001b[0;34m\u001b[0m\u001b[0;34m\u001b[0m\u001b[0m\n",
            "\u001b[0;32m/usr/local/lib/python3.10/dist-packages/scipy/sparse/_index.py\u001b[0m in \u001b[0;36m__getitem__\u001b[0;34m(self, key)\u001b[0m\n\u001b[1;32m     45\u001b[0m \u001b[0;34m\u001b[0m\u001b[0m\n\u001b[1;32m     46\u001b[0m     \u001b[0;32mdef\u001b[0m \u001b[0m__getitem__\u001b[0m\u001b[0;34m(\u001b[0m\u001b[0mself\u001b[0m\u001b[0;34m,\u001b[0m \u001b[0mkey\u001b[0m\u001b[0;34m)\u001b[0m\u001b[0;34m:\u001b[0m\u001b[0;34m\u001b[0m\u001b[0;34m\u001b[0m\u001b[0m\n\u001b[0;32m---> 47\u001b[0;31m         \u001b[0mrow\u001b[0m\u001b[0;34m,\u001b[0m \u001b[0mcol\u001b[0m \u001b[0;34m=\u001b[0m \u001b[0mself\u001b[0m\u001b[0;34m.\u001b[0m\u001b[0m_validate_indices\u001b[0m\u001b[0;34m(\u001b[0m\u001b[0mkey\u001b[0m\u001b[0;34m)\u001b[0m\u001b[0;34m\u001b[0m\u001b[0;34m\u001b[0m\u001b[0m\n\u001b[0m\u001b[1;32m     48\u001b[0m \u001b[0;34m\u001b[0m\u001b[0m\n\u001b[1;32m     49\u001b[0m         \u001b[0;31m# Dispatch to specialized methods.\u001b[0m\u001b[0;34m\u001b[0m\u001b[0;34m\u001b[0m\u001b[0m\n",
            "\u001b[0;32m/usr/local/lib/python3.10/dist-packages/scipy/sparse/_index.py\u001b[0m in \u001b[0;36m_validate_indices\u001b[0;34m(self, key)\u001b[0m\n\u001b[1;32m    157\u001b[0m                 \u001b[0mrow\u001b[0m \u001b[0;34m+=\u001b[0m \u001b[0mM\u001b[0m\u001b[0;34m\u001b[0m\u001b[0;34m\u001b[0m\u001b[0m\n\u001b[1;32m    158\u001b[0m         \u001b[0;32melif\u001b[0m \u001b[0;32mnot\u001b[0m \u001b[0misinstance\u001b[0m\u001b[0;34m(\u001b[0m\u001b[0mrow\u001b[0m\u001b[0;34m,\u001b[0m \u001b[0mslice\u001b[0m\u001b[0;34m)\u001b[0m\u001b[0;34m:\u001b[0m\u001b[0;34m\u001b[0m\u001b[0;34m\u001b[0m\u001b[0m\n\u001b[0;32m--> 159\u001b[0;31m             \u001b[0mrow\u001b[0m \u001b[0;34m=\u001b[0m \u001b[0mself\u001b[0m\u001b[0;34m.\u001b[0m\u001b[0m_asindices\u001b[0m\u001b[0;34m(\u001b[0m\u001b[0mrow\u001b[0m\u001b[0;34m,\u001b[0m \u001b[0mM\u001b[0m\u001b[0;34m)\u001b[0m\u001b[0;34m\u001b[0m\u001b[0;34m\u001b[0m\u001b[0m\n\u001b[0m\u001b[1;32m    160\u001b[0m \u001b[0;34m\u001b[0m\u001b[0m\n\u001b[1;32m    161\u001b[0m         \u001b[0;32mif\u001b[0m \u001b[0misintlike\u001b[0m\u001b[0;34m(\u001b[0m\u001b[0mcol\u001b[0m\u001b[0;34m)\u001b[0m\u001b[0;34m:\u001b[0m\u001b[0;34m\u001b[0m\u001b[0;34m\u001b[0m\u001b[0m\n",
            "\u001b[0;32m/usr/local/lib/python3.10/dist-packages/scipy/sparse/_index.py\u001b[0m in \u001b[0;36m_asindices\u001b[0;34m(self, idx, length)\u001b[0m\n\u001b[1;32m    187\u001b[0m \u001b[0;34m\u001b[0m\u001b[0m\n\u001b[1;32m    188\u001b[0m         \u001b[0;31m# Check bounds\u001b[0m\u001b[0;34m\u001b[0m\u001b[0;34m\u001b[0m\u001b[0m\n\u001b[0;32m--> 189\u001b[0;31m         \u001b[0mmax_indx\u001b[0m \u001b[0;34m=\u001b[0m \u001b[0mx\u001b[0m\u001b[0;34m.\u001b[0m\u001b[0mmax\u001b[0m\u001b[0;34m(\u001b[0m\u001b[0;34m)\u001b[0m\u001b[0;34m\u001b[0m\u001b[0;34m\u001b[0m\u001b[0m\n\u001b[0m\u001b[1;32m    190\u001b[0m         \u001b[0;32mif\u001b[0m \u001b[0mmax_indx\u001b[0m \u001b[0;34m>=\u001b[0m \u001b[0mlength\u001b[0m\u001b[0;34m:\u001b[0m\u001b[0;34m\u001b[0m\u001b[0;34m\u001b[0m\u001b[0m\n\u001b[1;32m    191\u001b[0m             \u001b[0;32mraise\u001b[0m \u001b[0mIndexError\u001b[0m\u001b[0;34m(\u001b[0m\u001b[0;34m'index (%d) out of range'\u001b[0m \u001b[0;34m%\u001b[0m \u001b[0mmax_indx\u001b[0m\u001b[0;34m)\u001b[0m\u001b[0;34m\u001b[0m\u001b[0;34m\u001b[0m\u001b[0m\n",
            "\u001b[0;32m/usr/local/lib/python3.10/dist-packages/numpy/core/_methods.py\u001b[0m in \u001b[0;36m_amax\u001b[0;34m(a, axis, out, keepdims, initial, where)\u001b[0m\n\u001b[1;32m     38\u001b[0m def _amax(a, axis=None, out=None, keepdims=False,\n\u001b[1;32m     39\u001b[0m           initial=_NoValue, where=True):\n\u001b[0;32m---> 40\u001b[0;31m     \u001b[0;32mreturn\u001b[0m \u001b[0mumr_maximum\u001b[0m\u001b[0;34m(\u001b[0m\u001b[0ma\u001b[0m\u001b[0;34m,\u001b[0m \u001b[0maxis\u001b[0m\u001b[0;34m,\u001b[0m \u001b[0;32mNone\u001b[0m\u001b[0;34m,\u001b[0m \u001b[0mout\u001b[0m\u001b[0;34m,\u001b[0m \u001b[0mkeepdims\u001b[0m\u001b[0;34m,\u001b[0m \u001b[0minitial\u001b[0m\u001b[0;34m,\u001b[0m \u001b[0mwhere\u001b[0m\u001b[0;34m)\u001b[0m\u001b[0;34m\u001b[0m\u001b[0;34m\u001b[0m\u001b[0m\n\u001b[0m\u001b[1;32m     41\u001b[0m \u001b[0;34m\u001b[0m\u001b[0m\n\u001b[1;32m     42\u001b[0m def _amin(a, axis=None, out=None, keepdims=False,\n",
            "\u001b[0;31mTypeError\u001b[0m: '>=' not supported between instances of 'NoneType' and 'NoneType'"
          ]
        }
      ]
    },
    {
      "cell_type": "markdown",
      "source": [
        "### Model 2-Cold start"
      ],
      "metadata": {
        "id": "HINBla-_szUm"
      }
    },
    {
      "cell_type": "code",
      "source": [
        "df_encoded.shape"
      ],
      "metadata": {
        "colab": {
          "base_uri": "https://localhost:8080/"
        },
        "id": "p2zevGGxiQ1k",
        "outputId": "6b4f739f-8f8d-4eb0-c618-4b3640fea586"
      },
      "execution_count": null,
      "outputs": [
        {
          "output_type": "execute_result",
          "data": {
            "text/plain": [
              "(630808, 1549)"
            ]
          },
          "metadata": {},
          "execution_count": 273
        }
      ]
    },
    {
      "cell_type": "code",
      "source": [
        "sample_size = len(df_encoded) // 4  # Calculate the sample size\n",
        "\n",
        "sample_1 = df_encoded.sample(n=sample_size, random_state=42)  # First sample\n",
        "remaining_df = df_encoded.drop(sample_1.index)  # Remove the selected rows from the DataFrame\n",
        "\n",
        "sample_2 = remaining_df.sample(n=sample_size, random_state=42)  # Second sample\n",
        "remaining_df = remaining_df.drop(sample_2.index)\n",
        "\n",
        "sample_3 = remaining_df.sample(n=sample_size, random_state=42)  # Third sample\n",
        "remaining_df = remaining_df.drop(sample_3.index)\n",
        "\n",
        "sample_4 = remaining_df.sample(n=sample_size, random_state=42)  # Fourth sample"
      ],
      "metadata": {
        "id": "AIwrViTsiSrC"
      },
      "execution_count": null,
      "outputs": []
    },
    {
      "cell_type": "code",
      "source": [
        "sample_1.shape"
      ],
      "metadata": {
        "id": "vzZIUOK6iep7"
      },
      "execution_count": null,
      "outputs": []
    },
    {
      "cell_type": "code",
      "source": [
        "# sample_2.shape"
      ],
      "metadata": {
        "id": "nugrYmzyih-H"
      },
      "execution_count": null,
      "outputs": []
    },
    {
      "cell_type": "code",
      "source": [
        "# sample_3.shape"
      ],
      "metadata": {
        "id": "Utk9xezjikR7"
      },
      "execution_count": null,
      "outputs": []
    },
    {
      "cell_type": "code",
      "source": [
        "# sample_4.shape"
      ],
      "metadata": {
        "id": "9bqb7r0iimwX"
      },
      "execution_count": null,
      "outputs": []
    },
    {
      "cell_type": "code",
      "source": [
        "from sklearn.neighbors import NearestNeighbors\n",
        "# instantiating Nearest Neighbors\n",
        "nearest_neighbor_model = NearestNeighbors(metric='cosine', algorithm='brute')\n",
        "\n",
        "#fitting the model to the sparse matrix\n",
        "model_1 = nearest_neighbor_model.fit(sample_1)"
      ],
      "metadata": {
        "id": "1P1kZQiFjFPo"
      },
      "execution_count": null,
      "outputs": []
    },
    {
      "cell_type": "code",
      "source": [
        "# Create a DataFrame with user attributes\n",
        "user_data = pd.DataFrame({\n",
        "    'product_name_x': [''],\n",
        "    'skin_tone': ['medium'],\n",
        "    'eye_color': ['blue'],\n",
        "    'skin_type': ['combination'],\n",
        "    'hair_color': ['black'],\n",
        "    'rating_x': [4.5413],\n",
        "    'price_usd_x': [50],\n",
        "    'is_recommended': [1],\n",
        "    'helpfulness': [1]\n",
        "})\n",
        "\n",
        "# Apply one-hot encoding to user attributes\n",
        "user_encoded = pd.get_dummies(user_data, columns=['skin_tone', 'eye_color', 'skin_type', 'hair_color'])\n"
      ],
      "metadata": {
        "id": "XElj7xO9kFqk"
      },
      "execution_count": null,
      "outputs": []
    },
    {
      "cell_type": "code",
      "source": [
        "user_encoded.columns"
      ],
      "metadata": {
        "colab": {
          "base_uri": "https://localhost:8080/"
        },
        "id": "dJ1s76jOau3N",
        "outputId": "791ca8af-83fb-4cc4-b0d8-0d082d5fbf72"
      },
      "execution_count": null,
      "outputs": [
        {
          "output_type": "execute_result",
          "data": {
            "text/plain": [
              "Index(['product_name_x', 'rating_x', 'price_usd_x', 'is_recommended',\n",
              "       'helpfulness', 'skin_tone_medium', 'eye_color_blue',\n",
              "       'skin_type_combination', 'hair_color_black'],\n",
              "      dtype='object')"
            ]
          },
          "metadata": {},
          "execution_count": 277
        }
      ]
    },
    {
      "cell_type": "code",
      "source": [
        "# Reindex the user_encoded DataFrame to match the training data's columns\n",
        "user_encoded = user_encoded.reindex(columns=sample_1.columns, fill_value=0)"
      ],
      "metadata": {
        "id": "GGKxlncrbton"
      },
      "execution_count": null,
      "outputs": []
    },
    {
      "cell_type": "code",
      "source": [
        "# Find the nearest neighbors of the user data\n",
        "distances, indices = model_1.kneighbors(user_encoded)"
      ],
      "metadata": {
        "id": "JeDN9fdCaH-x"
      },
      "execution_count": null,
      "outputs": []
    },
    {
      "cell_type": "code",
      "source": [
        "# Find the nearest neighbors of the user data\n",
        "distances, indices = model_1.kneighbors(user_encoded)\n",
        "\n",
        "# Retrieve the recommended product name x from the nearest neighbors\n",
        "recommended_product_name_x = sample_1.index[indices[0][0]]\n",
        "recommended_product_name_x"
      ],
      "metadata": {
        "colab": {
          "base_uri": "https://localhost:8080/"
        },
        "id": "76zdJ7ZUaQHG",
        "outputId": "8cc159c9-7d0a-49f3-d178-a25869bbeb1a"
      },
      "execution_count": null,
      "outputs": [
        {
          "output_type": "execute_result",
          "data": {
            "text/plain": [
              "316064"
            ]
          },
          "metadata": {},
          "execution_count": 280
        }
      ]
    },
    {
      "cell_type": "code",
      "source": [
        "recommended_product_row = sample_1.loc[recommended_product_name_x]\n",
        "recommended_product_row"
      ],
      "metadata": {
        "colab": {
          "base_uri": "https://localhost:8080/"
        },
        "id": "3qxjVgxEpb0C",
        "outputId": "b644dbda-0e8c-4df4-f267-4c1be5bfcded"
      },
      "execution_count": null,
      "outputs": [
        {
          "output_type": "execute_result",
          "data": {
            "text/plain": [
              "loves_count              1.00000\n",
              "rating_x                 0.84739\n",
              "price_usd_x              1.00000\n",
              "is_recommended           0.00000\n",
              "helpfulness              0.00000\n",
              "                          ...   \n",
              "hair_color_red           0.00000\n",
              "skin_type_combination    1.00000\n",
              "skin_type_dry            0.00000\n",
              "skin_type_normal         0.00000\n",
              "skin_type_oily           0.00000\n",
              "Name: 316064, Length: 1549, dtype: float64"
            ]
          },
          "metadata": {},
          "execution_count": 281
        }
      ]
    },
    {
      "cell_type": "code",
      "source": [
        "column_name = recommended_product_row.index[recommended_product_row.index.str.startswith('product_name_x')][0]\n"
      ],
      "metadata": {
        "id": "1EO27ovluG4D"
      },
      "execution_count": null,
      "outputs": []
    },
    {
      "cell_type": "code",
      "source": [
        "column_name"
      ],
      "metadata": {
        "colab": {
          "base_uri": "https://localhost:8080/",
          "height": 35
        },
        "id": "Bt6weIn3uJmc",
        "outputId": "36bf2f2b-d9ab-45d3-eba7-34d85599e78e"
      },
      "execution_count": null,
      "outputs": [
        {
          "output_type": "execute_result",
          "data": {
            "text/plain": [
              "'product_name_x_\"B\" Oil'"
            ],
            "application/vnd.google.colaboratory.intrinsic+json": {
              "type": "string"
            }
          },
          "metadata": {},
          "execution_count": 283
        }
      ]
    },
    {
      "cell_type": "code",
      "source": [
        "recommended_product_names"
      ],
      "metadata": {
        "id": "tDaqdXgnv7pv"
      },
      "execution_count": null,
      "outputs": []
    }
  ]
}