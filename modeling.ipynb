{
  "nbformat": 4,
  "nbformat_minor": 0,
  "metadata": {
    "colab": {
      "provenance": []
    },
    "kernelspec": {
      "name": "python3",
      "display_name": "Python 3"
    },
    "language_info": {
      "name": "python"
    }
  },
  "cells": [
    {
      "cell_type": "code",
      "execution_count": null,
      "metadata": {
        "id": "ocoev3PrB7sP"
      },
      "outputs": [],
      "source": [
        "#importing relevant libraries\n",
        "import pandas as pd\n",
        "import numpy as np\n",
        "import json\n",
        "import matplotlib.pyplot as plt\n",
        "%matplotlib inline\n",
        "import seaborn as sns\n",
        "import plotly.subplots as sp\n",
        "import plotly.graph_objects as go\n",
        "import warnings\n",
        "warnings.filterwarnings(\"ignore\")\n",
        "from scipy.stats import skew\n",
        "from scipy.sparse import csr_matrix\n",
        "from sklearn.model_selection import train_test_split\n",
        "from sklearn.metrics import accuracy_score"
      ]
    },
    {
      "cell_type": "code",
      "source": [
        "from google.colab import drive\n",
        "drive.mount('/content/drive')"
      ],
      "metadata": {
        "colab": {
          "base_uri": "https://localhost:8080/"
        },
        "id": "7wN6bsLACCp_",
        "outputId": "147aa3f1-b87d-451d-dcde-d11e39a95e61"
      },
      "execution_count": null,
      "outputs": [
        {
          "output_type": "stream",
          "name": "stdout",
          "text": [
            "Drive already mounted at /content/drive; to attempt to forcibly remount, call drive.mount(\"/content/drive\", force_remount=True).\n"
          ]
        }
      ]
    },
    {
      "cell_type": "code",
      "source": [
        "new_data = pd.read_csv('/content/drive/MyDrive/new-data.csv')"
      ],
      "metadata": {
        "id": "TOETGy7cCILl"
      },
      "execution_count": null,
      "outputs": []
    },
    {
      "cell_type": "code",
      "source": [
        "new_data.shape"
      ],
      "metadata": {
        "colab": {
          "base_uri": "https://localhost:8080/"
        },
        "id": "F-4nbVm7CI-G",
        "outputId": "631f4ec5-9322-4d00-846c-df3b285b9921"
      },
      "execution_count": null,
      "outputs": [
        {
          "output_type": "execute_result",
          "data": {
            "text/plain": [
              "(630808, 22)"
            ]
          },
          "metadata": {},
          "execution_count": 10
        }
      ]
    },
    {
      "cell_type": "code",
      "source": [
        "new_data.isna().sum()"
      ],
      "metadata": {
        "colab": {
          "base_uri": "https://localhost:8080/"
        },
        "id": "HT82QgnZCsW8",
        "outputId": "f325c056-e8d3-4aa4-a167-4f90e3b1b04f"
      },
      "execution_count": null,
      "outputs": [
        {
          "output_type": "execute_result",
          "data": {
            "text/plain": [
              "Unnamed: 0            0\n",
              "author_id             0\n",
              "product_id            0\n",
              "product_name_x        0\n",
              "brand_name_x          0\n",
              "loves_count           0\n",
              "rating_x              0\n",
              "reviews               0\n",
              "size                  0\n",
              "ingredients           0\n",
              "price_usd_x           0\n",
              "highlights            0\n",
              "primary_category      0\n",
              "secondary_category    0\n",
              "tertiary_category     0\n",
              "is_recommended        0\n",
              "helpfulness           0\n",
              "review_text           0\n",
              "skin_tone             0\n",
              "eye_color             0\n",
              "skin_type             0\n",
              "hair_color            0\n",
              "dtype: int64"
            ]
          },
          "metadata": {},
          "execution_count": 11
        }
      ]
    },
    {
      "cell_type": "code",
      "source": [
        "new_data.duplicated().sum()"
      ],
      "metadata": {
        "colab": {
          "base_uri": "https://localhost:8080/"
        },
        "id": "uxtfnGEXDUJn",
        "outputId": "ecd9b1c3-c384-48e1-bd1f-41f82bc8967c"
      },
      "execution_count": null,
      "outputs": [
        {
          "output_type": "execute_result",
          "data": {
            "text/plain": [
              "0"
            ]
          },
          "metadata": {},
          "execution_count": 12
        }
      ]
    },
    {
      "cell_type": "code",
      "source": [
        "new_data.columns"
      ],
      "metadata": {
        "colab": {
          "base_uri": "https://localhost:8080/"
        },
        "id": "X5siR8sbDhlj",
        "outputId": "e4afea36-b372-4f66-e3a7-ba09d701eeac"
      },
      "execution_count": null,
      "outputs": [
        {
          "output_type": "execute_result",
          "data": {
            "text/plain": [
              "Index(['Unnamed: 0', 'author_id', 'product_id', 'product_name_x',\n",
              "       'brand_name_x', 'loves_count', 'rating_x', 'reviews', 'size',\n",
              "       'ingredients', 'price_usd_x', 'highlights', 'primary_category',\n",
              "       'secondary_category', 'tertiary_category', 'is_recommended',\n",
              "       'helpfulness', 'review_text', 'skin_tone', 'eye_color', 'skin_type',\n",
              "       'hair_color'],\n",
              "      dtype='object')"
            ]
          },
          "metadata": {},
          "execution_count": 13
        }
      ]
    },
    {
      "cell_type": "code",
      "source": [
        "new_data = new_data.drop(['Unnamed: 0'], axis=1)"
      ],
      "metadata": {
        "id": "dX-Io1I2Dkbf"
      },
      "execution_count": null,
      "outputs": []
    },
    {
      "cell_type": "code",
      "source": [
        "new_data.shape"
      ],
      "metadata": {
        "colab": {
          "base_uri": "https://localhost:8080/"
        },
        "id": "eMyDS2MdDlWs",
        "outputId": "d7f095ea-6bfc-45a6-b571-af4cf70087d9"
      },
      "execution_count": null,
      "outputs": [
        {
          "output_type": "execute_result",
          "data": {
            "text/plain": [
              "(630808, 21)"
            ]
          },
          "metadata": {},
          "execution_count": 15
        }
      ]
    },
    {
      "cell_type": "markdown",
      "source": [
        "### Data Preprocessing"
      ],
      "metadata": {
        "id": "Pu2POd4HD5gL"
      }
    },
    {
      "cell_type": "code",
      "source": [
        "new_data_1= new_data.drop(['product_name_x','author_id','size', 'ingredients', 'highlights', 'primary_category',\n",
        "                           'secondary_category', 'review_text','brand_name_x', 'tertiary_category'], axis=1)"
      ],
      "metadata": {
        "id": "A3twtC7qD5LD"
      },
      "execution_count": null,
      "outputs": []
    },
    {
      "cell_type": "code",
      "source": [
        "new_data_1.shape"
      ],
      "metadata": {
        "colab": {
          "base_uri": "https://localhost:8080/"
        },
        "id": "cGHn_mDgEGmL",
        "outputId": "17bc08d8-4adc-442f-9735-7fe27ac3b4dd"
      },
      "execution_count": null,
      "outputs": [
        {
          "output_type": "execute_result",
          "data": {
            "text/plain": [
              "(630808, 11)"
            ]
          },
          "metadata": {},
          "execution_count": 17
        }
      ]
    },
    {
      "cell_type": "markdown",
      "source": [
        "### OHE"
      ],
      "metadata": {
        "id": "qFxz7CT0Ept8"
      }
    },
    {
      "cell_type": "code",
      "source": [
        "# Categorical columns to one-hot encode\n",
        "categorical_cols = ['product_id', 'skin_tone', 'eye_color', 'hair_color', 'skin_type']\n",
        "df_encoded = pd.get_dummies(new_data_1, columns=categorical_cols)"
      ],
      "metadata": {
        "id": "WzTZehuTEZlp"
      },
      "execution_count": null,
      "outputs": []
    },
    {
      "cell_type": "code",
      "source": [
        "df_encoded.shape"
      ],
      "metadata": {
        "colab": {
          "base_uri": "https://localhost:8080/"
        },
        "id": "t-XhZ4z2Ec6Y",
        "outputId": "05333da6-5e70-4d23-85bf-42b744857a41"
      },
      "execution_count": null,
      "outputs": [
        {
          "output_type": "execute_result",
          "data": {
            "text/plain": [
              "(630808, 1554)"
            ]
          },
          "metadata": {},
          "execution_count": 19
        }
      ]
    },
    {
      "cell_type": "markdown",
      "source": [
        "### Checking for Skewness & Log Transformation"
      ],
      "metadata": {
        "id": "cbYmMY-KEuUo"
      }
    },
    {
      "cell_type": "code",
      "source": [
        "def check_skewness(data):\n",
        "    skewness = {}\n",
        "    interpretation = {}\n",
        "    for column in data.columns:\n",
        "        # Convert the column data to a NumPy array\n",
        "        column_data = np.array(data[column])\n",
        "        # Calculate the skewness of the column data\n",
        "        column_skewness = skew(column_data)\n",
        "        skewness[column] = column_skewness\n",
        "        # Interpret the skewness value\n",
        "        if column_skewness < -1:\n",
        "            interpretation[column] = \"Highly left-skewed\"\n",
        "        elif -1 <= column_skewness < -0.5:\n",
        "            interpretation[column] = \"Moderately left-skewed\"\n",
        "        elif -0.5 <= column_skewness <= 0.5:\n",
        "            interpretation[column] = \"Approximately symmetric\"\n",
        "        elif 0.5 < column_skewness < 1:\n",
        "            interpretation[column] = \"Moderately right-skewed\"\n",
        "        else:\n",
        "            interpretation[column] = \"Highly right-skewed\"\n",
        "    return skewness, interpretation\n",
        "\n",
        "columns = [\"loves_count\", \"rating_x\", \"reviews\", \"price_usd_x\"]\n",
        "skewness, interpretation = check_skewness(df_encoded[columns])\n",
        "for column in columns:\n",
        "    print(\"Skewness for\", column, \":\", skewness[column])\n",
        "    print(\"Interpretation for\", column, \":\", interpretation[column])\n",
        "    print()"
      ],
      "metadata": {
        "colab": {
          "base_uri": "https://localhost:8080/"
        },
        "id": "OI7x56ieJwAv",
        "outputId": "4b98e014-5ac6-434e-f996-bd5830f96ba6"
      },
      "execution_count": null,
      "outputs": [
        {
          "output_type": "stream",
          "name": "stdout",
          "text": [
            "Skewness for loves_count : 2.3711238911442045\n",
            "Interpretation for loves_count : Highly right-skewed\n",
            "\n",
            "Skewness for rating_x : -0.9422155184528447\n",
            "Interpretation for rating_x : Moderately left-skewed\n",
            "\n",
            "Skewness for reviews : 1.5276858861870186\n",
            "Interpretation for reviews : Highly right-skewed\n",
            "\n",
            "Skewness for price_usd_x : 3.4259434143105993\n",
            "Interpretation for price_usd_x : Highly right-skewed\n",
            "\n"
          ]
        }
      ]
    },
    {
      "cell_type": "code",
      "source": [
        "# Create a new DataFrame for log-transformed values\n",
        "\n",
        "# Perform log transformation for each column\n",
        "for column in ['loves_count','price_usd_x' ]:\n",
        "    df_encoded[column] = np.log(df_encoded[column])"
      ],
      "metadata": {
        "id": "NCZJJc1SFp_-"
      },
      "execution_count": null,
      "outputs": []
    },
    {
      "cell_type": "markdown",
      "source": [
        "### Scaling the data"
      ],
      "metadata": {
        "id": "DZuusvO8O601"
      }
    },
    {
      "cell_type": "code",
      "source": [
        "import numpy as np\n",
        "from sklearn.preprocessing import MinMaxScaler\n",
        "\n",
        "# Numerical columns to scale the data\n",
        "numerical_cols = ['loves_count', 'price_usd_x', 'rating_x']\n",
        "\n",
        "# Clip the values to a reasonable range\n",
        "clip_min = -1e9  # Define the minimum value to clip\n",
        "clip_max = 1e9   # Define the maximum value to clip\n",
        "df_encoded[numerical_cols] = np.clip(df_encoded[numerical_cols], clip_min, clip_max)\n",
        "\n",
        "# Scale the data\n",
        "scaler = MinMaxScaler()\n",
        "df_encoded[numerical_cols] = scaler.fit_transform(df_encoded[numerical_cols])"
      ],
      "metadata": {
        "id": "mQmHIqojSpqw"
      },
      "execution_count": null,
      "outputs": []
    },
    {
      "cell_type": "markdown",
      "source": [
        "### Nearest Neighbours"
      ],
      "metadata": {
        "id": "vyNLKmcVTMF_"
      }
    },
    {
      "cell_type": "code",
      "source": [
        "# create a mapping from unique author IDs and product names to indices\n",
        "author_ids = new_data['author_id'].unique()\n",
        "author_id_to_index = {id: index for index, id in enumerate(author_ids)}\n",
        "product_names = new_data['product_name_x'].unique()\n",
        "product_name_to_index = {id: index for index, id in enumerate(product_names)}\n",
        "# get the indices for the sparse matrix\n",
        "row_indices = np.array([author_id_to_index[id] for id in new_data['author_id']])\n",
        "col_indices = np.array([product_name_to_index[id] for id in new_data['product_name_x']])\n",
        "ratings = np.array(new_data['rating_x'])\n",
        "# create the sparse matrix\n",
        "sparse_matrix = csr_matrix((ratings, (row_indices, col_indices)), shape=(len(author_ids), len(product_names)))"
      ],
      "metadata": {
        "id": "XiCuofyJaT4a"
      },
      "execution_count": null,
      "outputs": []
    },
    {
      "cell_type": "code",
      "source": [
        "sparse_matrix"
      ],
      "metadata": {
        "colab": {
          "base_uri": "https://localhost:8080/"
        },
        "id": "nno49XFneWGI",
        "outputId": "73fd6c13-baef-4743-a34b-15b9195768a1"
      },
      "execution_count": null,
      "outputs": [
        {
          "output_type": "execute_result",
          "data": {
            "text/plain": [
              "<364274x1513 sparse matrix of type '<class 'numpy.float64'>'\n",
              "\twith 629695 stored elements in Compressed Sparse Row format>"
            ]
          },
          "metadata": {},
          "execution_count": 44
        }
      ]
    },
    {
      "cell_type": "code",
      "source": [
        "from sklearn.neighbors import NearestNeighbors\n",
        "# instantiating Nearest Neighbors\n",
        "nearest_neighbor_model = NearestNeighbors(metric='cosine', algorithm='brute')\n",
        "\n",
        "#fitting the model to the sparse matrix\n",
        "model = nearest_neighbor_model.fit(sparse_matrix)"
      ],
      "metadata": {
        "id": "x9LcrhbYT1aL"
      },
      "execution_count": null,
      "outputs": []
    },
    {
      "cell_type": "code",
      "source": [
        "def recommend_product(product_name):\n",
        "    # Finding the index of the product in the pivot table\n",
        "    product_index = product_name_to_index[product_name]\n",
        "\n",
        "    # Finding the nearest neighbors of the given product\n",
        "    distances, indices = model.kneighbors(sparse_matrix.getrow(product_index), n_neighbors=5)\n",
        "\n",
        "    # Creating a list of recommended products\n",
        "    recommended_products = []\n",
        "    for index in indices.flatten():\n",
        "        recommended_products.append(product_names[index])\n",
        "\n",
        "    return recommended_products\n"
      ],
      "metadata": {
        "id": "BjuBqXrbhUx0"
      },
      "execution_count": null,
      "outputs": []
    },
    {
      "cell_type": "code",
      "source": [
        "recommend_product('1% Vitamin A Retinol Serum')"
      ],
      "metadata": {
        "colab": {
          "base_uri": "https://localhost:8080/"
        },
        "id": "qYHe7KZ3UU7-",
        "outputId": "b65b6d92-24d7-40b9-c634-a0a6604716d0"
      },
      "execution_count": null,
      "outputs": [
        {
          "output_type": "execute_result",
          "data": {
            "text/plain": [
              "['The Moisturizing Matte Lotion',\n",
              " 'The Eye Balm Intense',\n",
              " 'The Moisturizing Soft Lotion',\n",
              " 'The Cleansing Foam',\n",
              " 'The Lifting and Firming Mask']"
            ]
          },
          "metadata": {},
          "execution_count": 31
        }
      ]
    },
    {
      "cell_type": "markdown",
      "source": [
        "### Model 2"
      ],
      "metadata": {
        "id": "HINBla-_szUm"
      }
    },
    {
      "cell_type": "code",
      "source": [
        "df_encoded.shape"
      ],
      "metadata": {
        "colab": {
          "base_uri": "https://localhost:8080/"
        },
        "id": "p2zevGGxiQ1k",
        "outputId": "8991b488-d6d6-421c-834e-f02d85301d8e"
      },
      "execution_count": null,
      "outputs": [
        {
          "output_type": "execute_result",
          "data": {
            "text/plain": [
              "(630808, 1554)"
            ]
          },
          "metadata": {},
          "execution_count": 32
        }
      ]
    },
    {
      "cell_type": "code",
      "source": [
        "sample_size = len(df_encoded) // 4  # Calculate the sample size\n",
        "\n",
        "sample_1 = df_encoded.sample(n=sample_size, random_state=42)  # First sample\n",
        "remaining_df = df_encoded.drop(sample_1.index)  # Remove the selected rows from the DataFrame\n",
        "\n",
        "sample_2 = remaining_df.sample(n=sample_size, random_state=42)  # Second sample\n",
        "remaining_df = remaining_df.drop(sample_2.index)\n",
        "\n",
        "sample_3 = remaining_df.sample(n=sample_size, random_state=42)  # Third sample\n",
        "remaining_df = remaining_df.drop(sample_3.index)\n",
        "\n",
        "sample_4 = remaining_df.sample(n=sample_size, random_state=42)  # Fourth sample"
      ],
      "metadata": {
        "id": "AIwrViTsiSrC"
      },
      "execution_count": null,
      "outputs": []
    },
    {
      "cell_type": "code",
      "source": [
        "sample_1.shape"
      ],
      "metadata": {
        "colab": {
          "base_uri": "https://localhost:8080/"
        },
        "id": "vzZIUOK6iep7",
        "outputId": "3fad71d6-ef37-4c32-957d-4859b3b3cfbb"
      },
      "execution_count": null,
      "outputs": [
        {
          "output_type": "execute_result",
          "data": {
            "text/plain": [
              "(157702, 1554)"
            ]
          },
          "metadata": {},
          "execution_count": 34
        }
      ]
    },
    {
      "cell_type": "code",
      "source": [
        "sample_2.shape"
      ],
      "metadata": {
        "colab": {
          "base_uri": "https://localhost:8080/"
        },
        "id": "nugrYmzyih-H",
        "outputId": "1eacd5e5-8a66-40ba-9eb4-ebd52a1af14b"
      },
      "execution_count": null,
      "outputs": [
        {
          "output_type": "execute_result",
          "data": {
            "text/plain": [
              "(157702, 1554)"
            ]
          },
          "metadata": {},
          "execution_count": 35
        }
      ]
    },
    {
      "cell_type": "code",
      "source": [
        "sample_3.shape"
      ],
      "metadata": {
        "colab": {
          "base_uri": "https://localhost:8080/"
        },
        "id": "Utk9xezjikR7",
        "outputId": "68c5fe2c-63a3-4997-c21f-83f3b366bdae"
      },
      "execution_count": null,
      "outputs": [
        {
          "output_type": "execute_result",
          "data": {
            "text/plain": [
              "(157702, 1554)"
            ]
          },
          "metadata": {},
          "execution_count": 36
        }
      ]
    },
    {
      "cell_type": "code",
      "source": [
        "sample_4.shape"
      ],
      "metadata": {
        "colab": {
          "base_uri": "https://localhost:8080/"
        },
        "id": "9bqb7r0iimwX",
        "outputId": "93b11e3d-0269-4d66-d663-05b0f80c0d42"
      },
      "execution_count": null,
      "outputs": [
        {
          "output_type": "execute_result",
          "data": {
            "text/plain": [
              "(157702, 1554)"
            ]
          },
          "metadata": {},
          "execution_count": 37
        }
      ]
    },
    {
      "cell_type": "code",
      "source": [
        "from sklearn.neighbors import NearestNeighbors\n",
        "# instantiating Nearest Neighbors\n",
        "nearest_neighbor_model = NearestNeighbors(metric='cosine', algorithm='brute')\n",
        "\n",
        "#fitting the model to the sparse matrix\n",
        "model = nearest_neighbor_model.fit(sample_1)"
      ],
      "metadata": {
        "id": "1P1kZQiFjFPo"
      },
      "execution_count": null,
      "outputs": []
    },
    {
      "cell_type": "code",
      "source": [],
      "metadata": {
        "id": "XElj7xO9kFqk"
      },
      "execution_count": null,
      "outputs": []
    }
  ]
}